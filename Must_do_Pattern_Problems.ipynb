{
  "nbformat": 4,
  "nbformat_minor": 0,
  "metadata": {
    "colab": {
      "provenance": [],
      "toc_visible": true,
      "authorship_tag": "ABX9TyM+eMzIURf7EjNXitTmW7it",
      "include_colab_link": true
    },
    "kernelspec": {
      "name": "python3",
      "display_name": "Python 3"
    },
    "language_info": {
      "name": "python"
    }
  },
  "cells": [
    {
      "cell_type": "markdown",
      "metadata": {
        "id": "view-in-github",
        "colab_type": "text"
      },
      "source": [
        "<a href=\"https://colab.research.google.com/github/Pawan-ky/DSA_Practise/blob/main/Must_do_Pattern_Problems.ipynb\" target=\"_parent\"><img src=\"https://colab.research.google.com/assets/colab-badge.svg\" alt=\"Open In Colab\"/></a>"
      ]
    },
    {
      "cell_type": "code",
      "source": [
        "n = 7\n",
        "for i in range(n):\n",
        "  print(5*\"*\")"
      ],
      "metadata": {
        "colab": {
          "base_uri": "https://localhost:8080/"
        },
        "id": "if8uG9XoObTS",
        "outputId": "ce83f904-f108-49b3-c5bc-d382efd851fe"
      },
      "execution_count": 1,
      "outputs": [
        {
          "output_type": "stream",
          "name": "stdout",
          "text": [
            "*****\n",
            "*****\n",
            "*****\n",
            "*****\n",
            "*****\n",
            "*****\n",
            "*****\n"
          ]
        }
      ]
    },
    {
      "cell_type": "code",
      "source": [
        "n = 7\n",
        "for i in range(n):\n",
        "  print(i*\"*\")"
      ],
      "metadata": {
        "colab": {
          "base_uri": "https://localhost:8080/"
        },
        "id": "yxgtuzF4O04o",
        "outputId": "23ab37d9-ecbd-4d1e-9f2f-8bd73141bdc0"
      },
      "execution_count": 6,
      "outputs": [
        {
          "output_type": "stream",
          "name": "stdout",
          "text": [
            "\n",
            "*\n",
            "**\n",
            "***\n",
            "****\n",
            "*****\n",
            "******\n"
          ]
        }
      ]
    },
    {
      "cell_type": "code",
      "source": [
        "n = 7\n",
        "for i in range(1,n+1):\n",
        "  for j in range(1,i+1):\n",
        "    print(j, end='')\n",
        "  print(\"\")\n"
      ],
      "metadata": {
        "colab": {
          "base_uri": "https://localhost:8080/"
        },
        "id": "5aNMIIEQP3-d",
        "outputId": "f2087952-7a43-4b8b-eb7f-4c444eff43e9"
      },
      "execution_count": 11,
      "outputs": [
        {
          "output_type": "stream",
          "name": "stdout",
          "text": [
            "1\n",
            "12\n",
            "123\n",
            "1234\n",
            "12345\n",
            "123456\n",
            "1234567\n"
          ]
        }
      ]
    },
    {
      "cell_type": "code",
      "source": [
        "n = 7\n",
        "for i in range(1,n+1):\n",
        "  for j in range(1,i+1):\n",
        "    print(i, end='')\n",
        "  print(\"\")"
      ],
      "metadata": {
        "colab": {
          "base_uri": "https://localhost:8080/"
        },
        "id": "jMz9cstrQxX7",
        "outputId": "ce0d82bd-05e5-469f-facc-671384e11aa4"
      },
      "execution_count": 12,
      "outputs": [
        {
          "output_type": "stream",
          "name": "stdout",
          "text": [
            "1\n",
            "22\n",
            "333\n",
            "4444\n",
            "55555\n",
            "666666\n",
            "7777777\n"
          ]
        }
      ]
    },
    {
      "cell_type": "code",
      "source": [
        "n = 7\n",
        "for i in range(n,0,-1):\n",
        "  print(i*\"*\")"
      ],
      "metadata": {
        "colab": {
          "base_uri": "https://localhost:8080/"
        },
        "id": "NUeippSVVUdg",
        "outputId": "a0858097-fb9d-44be-d9e3-f56d902c814d"
      },
      "execution_count": 17,
      "outputs": [
        {
          "output_type": "stream",
          "name": "stdout",
          "text": [
            "*******\n",
            "******\n",
            "*****\n",
            "****\n",
            "***\n",
            "**\n",
            "*\n"
          ]
        }
      ]
    },
    {
      "cell_type": "code",
      "source": [
        "n = 7\n",
        "for i in range(n,0,-1):\n",
        "  for j in range(1,i+1):\n",
        "    print(j, end='')\n",
        "  print(\"\")"
      ],
      "metadata": {
        "colab": {
          "base_uri": "https://localhost:8080/"
        },
        "id": "ufcsQfEdVqys",
        "outputId": "decf6f15-cd90-49f4-9b47-16d31478b2fa"
      },
      "execution_count": 18,
      "outputs": [
        {
          "output_type": "stream",
          "name": "stdout",
          "text": [
            "1234567\n",
            "123456\n",
            "12345\n",
            "1234\n",
            "123\n",
            "12\n",
            "1\n"
          ]
        }
      ]
    },
    {
      "cell_type": "code",
      "source": [
        "n = 7\n",
        "for i in range(n):\n",
        "  for j in range(n-i-1):\n",
        "    print(\" \", end='')\n",
        "  for k in range(((2*i)+1)):\n",
        "    print(\"*\", end='')\n",
        "  for j in range(n-i-1):\n",
        "    print(\" \", end =' ')\n",
        "  print(' ')\n",
        "\n",
        "####  method 2\n",
        "# n = 7\n",
        "# for i in range(n):\n",
        "#   print((n-i-1)*\" \",((2*i)+1)*\"*\",(n-i-1)*\" \")"
      ],
      "metadata": {
        "colab": {
          "base_uri": "https://localhost:8080/"
        },
        "id": "tmKcE32KWEUm",
        "outputId": "09feb296-9f72-496c-db91-3d4772115ef3"
      },
      "execution_count": 11,
      "outputs": [
        {
          "output_type": "stream",
          "name": "stdout",
          "text": [
            "      *             \n",
            "     ***           \n",
            "    *****         \n",
            "   *******       \n",
            "  *********     \n",
            " ***********   \n",
            "************* \n",
            "       *       \n",
            "      ***      \n",
            "     *****     \n",
            "    *******    \n",
            "   *********   \n",
            "  ***********  \n",
            " ************* \n"
          ]
        }
      ]
    },
    {
      "cell_type": "code",
      "source": [
        "n = 7\n",
        "for i in range(n):\n",
        "  print(i*\" \",(2*n-(2*i+1))*\"*\",i*\" \")"
      ],
      "metadata": {
        "colab": {
          "base_uri": "https://localhost:8080/"
        },
        "id": "iwTwRXMTYxws",
        "outputId": "3e22a209-8caf-4afa-8a81-7d84d5d145b7"
      },
      "execution_count": 39,
      "outputs": [
        {
          "output_type": "stream",
          "name": "stdout",
          "text": [
            " ************* \n",
            "  ***********  \n",
            "   *********   \n",
            "    *******    \n",
            "     *****     \n",
            "      ***      \n",
            "       *       \n"
          ]
        }
      ]
    },
    {
      "cell_type": "code",
      "source": [
        "n = 7\n",
        "for i in range(n):\n",
        "  print((n-i-1)*\" \",((2*i)+1)*\"*\",(n-i-1)*\" \")\n",
        "for i in range(n):\n",
        "  print(i*\" \",(2*n-(2*i+1))*\"*\",i*\" \")"
      ],
      "metadata": {
        "colab": {
          "base_uri": "https://localhost:8080/"
        },
        "id": "vRf6Z1_RZ8yw",
        "outputId": "de723ca1-b2c4-41c2-bba3-7c4047d40d31"
      },
      "execution_count": 41,
      "outputs": [
        {
          "output_type": "stream",
          "name": "stdout",
          "text": [
            "       *       \n",
            "      ***      \n",
            "     *****     \n",
            "    *******    \n",
            "   *********   \n",
            "  ***********  \n",
            " ************* \n",
            " ************* \n",
            "  ***********  \n",
            "   *********   \n",
            "    *******    \n",
            "     *****     \n",
            "      ***      \n",
            "       *       \n"
          ]
        }
      ]
    },
    {
      "cell_type": "code",
      "source": [
        "n = 7\n",
        "for i in range(n):\n",
        "\n",
        "  if i%2==0 :\n",
        "    st = 0\n",
        "  else:\n",
        "    st = 1\n",
        "  for j in range(i):\n",
        "    print(st, end='')\n",
        "    st = 1-st\n",
        "  print('')\n",
        "    \n"
      ],
      "metadata": {
        "colab": {
          "base_uri": "https://localhost:8080/"
        },
        "id": "oVgMuzgoc6Zm",
        "outputId": "293385aa-1296-49d6-9cff-0e6b191427a2"
      },
      "execution_count": 58,
      "outputs": [
        {
          "output_type": "stream",
          "name": "stdout",
          "text": [
            "\n",
            "1\n",
            "01\n",
            "101\n",
            "0101\n",
            "10101\n",
            "010101\n"
          ]
        }
      ]
    },
    {
      "cell_type": "code",
      "source": [
        "n= 4\n",
        "for i in range(1,n+1):\n",
        "  space = 2*(n-i)\n",
        "  for j in range(1,i+1):\n",
        "    print(j, end=' ')\n",
        "  \n",
        "  for j in range(space):\n",
        "    print(\" \", end=' ')\n",
        "  \n",
        "  for k in range(i,0, -1):\n",
        "    print(k, end=' ')\n",
        "  print('')"
      ],
      "metadata": {
        "colab": {
          "base_uri": "https://localhost:8080/"
        },
        "id": "teBAKn_adV98",
        "outputId": "d44a732f-a435-4546-9a84-00073832dfc8"
      },
      "execution_count": 74,
      "outputs": [
        {
          "output_type": "stream",
          "name": "stdout",
          "text": [
            "1             1 \n",
            "1 2         2 1 \n",
            "1 2 3     3 2 1 \n",
            "1 2 3 4 4 3 2 1 \n"
          ]
        }
      ]
    },
    {
      "cell_type": "code",
      "source": [
        "n = 5\n",
        "cnt = 1\n",
        "for i in range(n+1):\n",
        "  \n",
        "  for j in range(i):\n",
        "    print(cnt, end=' ')\n",
        "    cnt+=1\n",
        "  print(' ')\n"
      ],
      "metadata": {
        "colab": {
          "base_uri": "https://localhost:8080/"
        },
        "id": "k_UfVFYzkX-o",
        "outputId": "64a53182-4a76-43a3-8ba4-11b60ec10ad1"
      },
      "execution_count": 73,
      "outputs": [
        {
          "output_type": "stream",
          "name": "stdout",
          "text": [
            " \n",
            "1  \n",
            "2 3  \n",
            "4 5 6  \n",
            "7 8 9 10  \n",
            "11 12 13 14 15  \n"
          ]
        }
      ]
    },
    {
      "cell_type": "code",
      "source": [
        "import string\n",
        "alphabet = list(string.ascii_uppercase)\n",
        "n =5\n",
        "for i in range(n+1):\n",
        "  for j in range(i):\n",
        "    print(alphabet[j], end='')\n",
        "  print(' ')"
      ],
      "metadata": {
        "colab": {
          "base_uri": "https://localhost:8080/"
        },
        "id": "Ozz0JPNcm4hz",
        "outputId": "46dc2429-b83e-4c32-ad9e-922070e57e8d"
      },
      "execution_count": 79,
      "outputs": [
        {
          "output_type": "stream",
          "name": "stdout",
          "text": [
            " \n",
            "A \n",
            "AB \n",
            "ABC \n",
            "ABCD \n",
            "ABCDE \n"
          ]
        }
      ]
    },
    {
      "cell_type": "code",
      "source": [
        "import string\n",
        "alphabet = list(string.ascii_uppercase)\n",
        "n =5\n",
        "for i in range(n,0,-1):\n",
        "  for j in range(i):\n",
        "    print(alphabet[j], end='')\n",
        "  print(' ')"
      ],
      "metadata": {
        "colab": {
          "base_uri": "https://localhost:8080/"
        },
        "id": "92kY59zUn7Vz",
        "outputId": "b58200e4-ae91-478a-91d0-1c66b5ff1630"
      },
      "execution_count": 78,
      "outputs": [
        {
          "output_type": "stream",
          "name": "stdout",
          "text": [
            "ABCDE \n",
            "ABCD \n",
            "ABC \n",
            "AB \n",
            "A \n"
          ]
        }
      ]
    },
    {
      "cell_type": "code",
      "source": [
        "import string\n",
        "alphabet = list(string.ascii_uppercase)\n",
        "n =5\n",
        "for i in range(0,n):\n",
        "  for j in range(i+1):\n",
        "    print(alphabet[i], end='')\n",
        "  print(' ')"
      ],
      "metadata": {
        "colab": {
          "base_uri": "https://localhost:8080/"
        },
        "id": "SGvkpEzWpbcX",
        "outputId": "0fee2ef8-0369-41f2-ca56-02cb9a48e506"
      },
      "execution_count": 82,
      "outputs": [
        {
          "output_type": "stream",
          "name": "stdout",
          "text": [
            "A \n",
            "BB \n",
            "CCC \n",
            "DDDD \n",
            "EEEEE \n"
          ]
        }
      ]
    },
    {
      "cell_type": "code",
      "source": [
        "import string\n",
        "alphabet = list(string.ascii_uppercase)\n",
        "n = 5\n",
        "for i in range(n):\n",
        "  for j in range(n-i-1):\n",
        "    print(\" \", end='')\n",
        "  brkpoint = (2*i+1)//2\n",
        "  for j in range(((2*i)+1)):\n",
        "    if j<=brkpoint:\n",
        "      print(alphabet[j], end='')\n",
        "    else:\n",
        "      # print(j,brkpoint, end=\"\")\n",
        "      print(alphabet[2*i-j], end ='')\n",
        "  for j in range(n-i-1):\n",
        "    print(\" \", end =' ')\n",
        "  print(' ')\n"
      ],
      "metadata": {
        "colab": {
          "base_uri": "https://localhost:8080/"
        },
        "id": "n1OrRMvvpq1C",
        "outputId": "f8750163-6bfc-4f77-f9eb-d581c8b60e84"
      },
      "execution_count": 30,
      "outputs": [
        {
          "output_type": "stream",
          "name": "stdout",
          "text": [
            "    A         \n",
            "   ABA       \n",
            "  ABCBA     \n",
            " ABCDCBA   \n",
            "ABCDEDCBA \n"
          ]
        }
      ]
    },
    {
      "cell_type": "code",
      "source": [
        "al = ['E','D','C','B','A']\n",
        "n =5\n",
        "for i in range(n):\n",
        "  for j in range(i+1):\n",
        "    print(al[j], end='')\n",
        "  print(' ')"
      ],
      "metadata": {
        "colab": {
          "base_uri": "https://localhost:8080/"
        },
        "id": "lF8efH0d9n0J",
        "outputId": "3414f8fb-d8a0-4940-f449-14691ad2f0af"
      },
      "execution_count": 41,
      "outputs": [
        {
          "output_type": "stream",
          "name": "stdout",
          "text": [
            "E \n",
            "ED \n",
            "EDC \n",
            "EDCB \n",
            "EDCBA \n"
          ]
        }
      ]
    },
    {
      "cell_type": "code",
      "source": [
        "\n",
        "n= 4\n",
        "for i in range(2*n-1):\n",
        "  for j in range(2*n-1):\n",
        "    top = i\n",
        "    left = j\n",
        "    bottom = 2*n-2-i\n",
        "    right = 2*n-2-j\n",
        "    print(n-min(top,left,bottom,right), end='')\n",
        "  print('')\n",
        "\n"
      ],
      "metadata": {
        "colab": {
          "base_uri": "https://localhost:8080/"
        },
        "id": "86hFEQ_m9nxI",
        "outputId": "aa1f9db7-32d9-451c-aedc-cc2b3400c5d6"
      },
      "execution_count": 44,
      "outputs": [
        {
          "output_type": "stream",
          "name": "stdout",
          "text": [
            "4444444\n",
            "4333334\n",
            "4322234\n",
            "4321234\n",
            "4322234\n",
            "4333334\n",
            "4444444\n"
          ]
        }
      ]
    },
    {
      "cell_type": "code",
      "source": [],
      "metadata": {
        "id": "l0onCmFVuG-x"
      },
      "execution_count": null,
      "outputs": []
    }
  ]
}